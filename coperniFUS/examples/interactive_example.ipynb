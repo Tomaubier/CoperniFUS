{
 "cells": [
  {
   "cell_type": "markdown",
   "metadata": {},
   "source": [
    "# CoperniFUS in interactive mode\n",
    "For direct interaction with the data created and manipulated by CoperniFUS"
   ]
  },
  {
   "cell_type": "markdown",
   "metadata": {},
   "source": [
    "## Step 0. install CoperniFUS\n",
    "1. Create a python environment to prevent package version conflicts. Although `pyenv` can be used, [miniconda](https://docs.anaconda.com/miniconda/install/) is recommanded.\n",
    "    \n",
    "    `conda create -n coperniFUS_env python=3.12`\n",
    "2. Make sure that your ipython notebook kernel runs in the `coperniFUS_env` environment.\n",
    "3. Install CoperniFUS"
   ]
  },
  {
   "cell_type": "code",
   "execution_count": null,
   "metadata": {},
   "outputs": [],
   "source": [
    "!pip install git+https://github.com/Tomaubier/CoperniFUS.git"
   ]
  }
 ],
 "metadata": {
  "language_info": {
   "name": "python"
  }
 },
 "nbformat": 4,
 "nbformat_minor": 2
}

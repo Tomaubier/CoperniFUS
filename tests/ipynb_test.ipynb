{
 "cells": [
  {
   "cell_type": "code",
   "execution_count": 1,
   "metadata": {},
   "outputs": [
    {
     "name": "stdout",
     "output_type": "stream",
     "text": [
      "Lauching CoperniFUS\n"
     ]
    },
    {
     "name": "stderr",
     "output_type": "stream",
     "text": [
      "WARNING:root:openblas_set_num_threads not found\n"
     ]
    },
    {
     "name": "stdout",
     "output_type": "stream",
     "text": [
      "Referencing assets located in /Users/tomaubier/miniconda3/envs/coperniFUS_env/lib/python3.12/site-packages/coperniFUS/examples/assets\n",
      "Cached data file located at /Users/tomaubier/coperniFUSCache/cached_db.json\n"
     ]
    },
    {
     "name": "stderr",
     "output_type": "stream",
     "text": [
      "2025-01-26 10:10:26.919 python[86185:12859885] +[IMKClient subclass]: chose IMKClient_Modern\n",
      "2025-01-26 10:10:26.919 python[86185:12859885] +[IMKInputSession subclass]: chose IMKInputSession_Modern\n"
     ]
    }
   ],
   "source": [
    "from coperniFUS.viewer import coperniFUSviewer\n",
    "cfv = coperniFUSviewer()"
   ]
  },
  {
   "cell_type": "code",
   "execution_count": 2,
   "metadata": {},
   "outputs": [
    {
     "data": {
      "text/plain": [
       "{'Skull acoustic window': <coperniFUS.modules.armatures.mesh_armatures.STLMeshBooleanArmature at 0x1607125d0>,\n",
       " 'Brain mesh (skull convex Hull)': <coperniFUS.modules.armatures.mesh_armatures.STLMeshConvexHull at 0x160712510>,\n",
       " 'kWave 3D simulation': <coperniFUS.modules.armatures.kwave_armatures.KWave3dSimulationArmature at 0x160712450>,\n",
       " 'Main frame': <coperniFUS.modules.armatures.base_armature.Armature at 0x160712420>}"
      ]
     },
     "execution_count": 2,
     "metadata": {},
     "output_type": "execute_result"
    }
   ],
   "source": [
    "# Modules objects can be grabbed using\n",
    "cfv.get_module_object_from_name()\n",
    "\n",
    "# Armatures objects can be grabbed using\n",
    "cfv.stereotaxic_frame.armatures_objects"
   ]
  },
  {
   "cell_type": "code",
   "execution_count": 3,
   "metadata": {},
   "outputs": [
    {
     "data": {
      "text/plain": [
       "True"
      ]
     },
     "execution_count": 3,
     "metadata": {},
     "output_type": "execute_result"
    }
   ],
   "source": [
    "cfv.close()"
   ]
  }
 ],
 "metadata": {
  "kernelspec": {
   "display_name": "coperniFUS_env",
   "language": "python",
   "name": "python3"
  },
  "language_info": {
   "codemirror_mode": {
    "name": "ipython",
    "version": 3
   },
   "file_extension": ".py",
   "mimetype": "text/x-python",
   "name": "python",
   "nbconvert_exporter": "python",
   "pygments_lexer": "ipython3",
   "version": "3.12.8"
  }
 },
 "nbformat": 4,
 "nbformat_minor": 2
}

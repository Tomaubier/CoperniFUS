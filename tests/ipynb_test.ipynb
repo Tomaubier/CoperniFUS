{
 "cells": [
  {
   "cell_type": "code",
   "execution_count": null,
   "metadata": {},
   "outputs": [],
   "source": [
    "from coperniFUS.viewer import coperniFUSviewer\n",
    "cfv = coperniFUSviewer()"
   ]
  },
  {
   "cell_type": "code",
   "execution_count": null,
   "metadata": {},
   "outputs": [],
   "source": [
    "# Modules objects can be grabbed using\n",
    "cfv.get_module_object_from_name()\n",
    "\n",
    "# Armatures objects can be grabbed using\n",
    "cfv.stereotaxic_frame.armatures_objects"
   ]
  }
 ],
 "metadata": {
  "language_info": {
   "name": "python"
  }
 },
 "nbformat": 4,
 "nbformat_minor": 2
}
